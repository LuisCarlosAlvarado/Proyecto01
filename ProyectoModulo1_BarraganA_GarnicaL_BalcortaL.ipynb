{
 "cells": [
  {
   "cell_type": "markdown",
   "metadata": {},
   "source": [
    "# Proyecto 01: Maximizar la Utilidad de las Salsas ‘Toro y Diablo’."
   ]
  },
  {
   "cell_type": "markdown",
   "metadata": {},
   "source": [
    "##  Objetivo General:\n",
    "\n",
    "##### Maximizar la utilidad de las Salsas Toro y Diablo.\n",
    "\n",
    "### Objetivos Específicos:\n",
    " \n",
    "###### -Utilizar método de programación lineal visto en clase para maximizar las utilidades de las salsas Toro y Diablo.\n",
    "\n",
    "###### -Utilizar Github y Git Kraken para hacer modificaciones del proyecto de forma remota."
   ]
  },
  {
   "cell_type": "code",
   "execution_count": 14,
   "metadata": {},
   "outputs": [],
   "source": [
    "import sympy as sym\n",
    "sym.init_printing(use_latex=\"mathjax\")\n",
    "import pandas as pd"
   ]
  },
  {
   "cell_type": "markdown",
   "metadata": {},
   "source": [
    "Tamazula SA de CV produce dos salsas para carne, la aromática **“Diablo”** y la suave **“Toro”**. Estas salsas se obtienen mezclando dos ingredientes, A y B. Se permite cierto nivel de flexibilidad en las fórmulas de estos productos. \n",
    "\n",
    "De hecho, las restricciones son: \n",
    "(1) La Toro debe tener como máximo $75\\%$ del ingrediente A \n",
    "(2) La Diablo por lo menos $25\\%$ de A y por lo menos $50\\%$ de B. \n",
    "\n",
    "Se disponen de $40 Tons.$ de A y $30 Tons.$ de B. \n",
    "\n",
    "Tamazula puede vender toda la salsa que se produzca a $\\frac{\\$20}{kg}$ de la Diablo y a $\\frac{\\$15}{Kg}$ de la Toro. A y B cuesta $\\frac{\\$8}{kg}$ y $\\frac{\\$6}{kg}$ respectivamente. \n",
    "\n",
    "Formule un modelo para maximizar las utilidades.\n"
   ]
  },
  {
   "cell_type": "markdown",
   "metadata": {},
   "source": []
  },
  {
   "cell_type": "code",
   "execution_count": 72,
   "metadata": {},
   "outputs": [
    {
     "data": {
      "text/html": [
       "<div>\n",
       "<style scoped>\n",
       "    .dataframe tbody tr th:only-of-type {\n",
       "        vertical-align: middle;\n",
       "    }\n",
       "\n",
       "    .dataframe tbody tr th {\n",
       "        vertical-align: top;\n",
       "    }\n",
       "\n",
       "    .dataframe thead th {\n",
       "        text-align: right;\n",
       "    }\n",
       "</style>\n",
       "<table border=\"1\" class=\"dataframe\">\n",
       "  <thead>\n",
       "    <tr style=\"text-align: right;\">\n",
       "      <th></th>\n",
       "      <th>Ingrediente A</th>\n",
       "      <th>Ingrediente B</th>\n",
       "      <th>Precio de Venta</th>\n",
       "      <th></th>\n",
       "    </tr>\n",
       "  </thead>\n",
       "  <tbody>\n",
       "    <tr>\n",
       "      <th>Toro</th>\n",
       "      <td>75%</td>\n",
       "      <td>0</td>\n",
       "      <td>15</td>\n",
       "      <td></td>\n",
       "    </tr>\n",
       "    <tr>\n",
       "      <th>Diablo</th>\n",
       "      <td>25%</td>\n",
       "      <td>50%</td>\n",
       "      <td>20</td>\n",
       "      <td></td>\n",
       "    </tr>\n",
       "    <tr>\n",
       "      <th>Disponibilidad</th>\n",
       "      <td>40</td>\n",
       "      <td>30</td>\n",
       "      <td></td>\n",
       "      <td>Toneladas</td>\n",
       "    </tr>\n",
       "    <tr>\n",
       "      <th>Costo</th>\n",
       "      <td>8</td>\n",
       "      <td>6</td>\n",
       "      <td></td>\n",
       "      <td></td>\n",
       "    </tr>\n",
       "  </tbody>\n",
       "</table>\n",
       "</div>"
      ],
      "text/plain": [
       "               Ingrediente A Ingrediente B Precio de Venta           \n",
       "Toro                     75%             0              15           \n",
       "Diablo                   25%           50%              20           \n",
       "Disponibilidad            40            30                  Toneladas\n",
       "Costo                      8             6                           "
      ]
     },
     "execution_count": 72,
     "metadata": {},
     "output_type": "execute_result"
    }
   ],
   "source": [
    "df = pd.DataFrame(columns=['Ingrediente A', 'Ingrediente B', 'Precio de Venta',''], index = ['Toro','Diablo','Disponibilidad','Costo'])\n",
    "df.loc['Toro', :]= ['75%',0,15,'']\n",
    "df.loc['Diablo', :]= ['25%','50%',20,'']\n",
    "df.loc['Disponibilidad', :]= [40,30,'',\"Toneladas\"]\n",
    "df.loc['Costo', :]= [8,6,'','']\n",
    "df"
   ]
  },
  {
   "cell_type": "markdown",
   "metadata": {},
   "source": [
    "$X$<sub>$ij$</sub> = kgs ingredientes de $\"i\"$ por salsa $\"j\"$."
   ]
  },
  {
   "cell_type": "code",
   "execution_count": 74,
   "metadata": {},
   "outputs": [
    {
     "data": {
      "text/html": [
       "<div>\n",
       "<style scoped>\n",
       "    .dataframe tbody tr th:only-of-type {\n",
       "        vertical-align: middle;\n",
       "    }\n",
       "\n",
       "    .dataframe tbody tr th {\n",
       "        vertical-align: top;\n",
       "    }\n",
       "\n",
       "    .dataframe thead th {\n",
       "        text-align: right;\n",
       "    }\n",
       "</style>\n",
       "<table border=\"1\" class=\"dataframe\">\n",
       "  <thead>\n",
       "    <tr style=\"text-align: right;\">\n",
       "      <th></th>\n",
       "      <th></th>\n",
       "      <th></th>\n",
       "      <th></th>\n",
       "      <th></th>\n",
       "    </tr>\n",
       "  </thead>\n",
       "  <tbody>\n",
       "    <tr>\n",
       "      <th>i</th>\n",
       "      <td>=</td>\n",
       "      <td>1</td>\n",
       "      <td>=</td>\n",
       "      <td>Ingrediente A</td>\n",
       "    </tr>\n",
       "    <tr>\n",
       "      <th></th>\n",
       "      <td></td>\n",
       "      <td>2</td>\n",
       "      <td>=</td>\n",
       "      <td>Ingrediente B</td>\n",
       "    </tr>\n",
       "    <tr>\n",
       "      <th>j</th>\n",
       "      <td>=</td>\n",
       "      <td>1</td>\n",
       "      <td>=</td>\n",
       "      <td>Toro</td>\n",
       "    </tr>\n",
       "    <tr>\n",
       "      <th>.</th>\n",
       "      <td></td>\n",
       "      <td>2</td>\n",
       "      <td>=</td>\n",
       "      <td>Diablo</td>\n",
       "    </tr>\n",
       "  </tbody>\n",
       "</table>\n",
       "</div>"
      ],
      "text/plain": [
       "                         \n",
       "i  =  1  =  Ingrediente A\n",
       "      2  =  Ingrediente B\n",
       "j  =  1  =           Toro\n",
       ".     2  =         Diablo"
      ]
     },
     "execution_count": 74,
     "metadata": {},
     "output_type": "execute_result"
    }
   ],
   "source": [
    "df = pd.DataFrame(columns=['','','',''], index = ['i','','j','.'])\n",
    "df.loc['i', :]= ['=',1,'=','Ingrediente A']\n",
    "df.loc['', :]= ['',2,'=','Ingrediente B']\n",
    "df.loc['j', :]= ['=',1,'=','Toro']\n",
    "df.loc['.', :]= ['',2,'=','Diablo']\n",
    "df"
   ]
  },
  {
   "cell_type": "markdown",
   "metadata": {},
   "source": [
    "$x_i$ Toneladas de producto i que intervienen en el abono i =A,B\n",
    "\n",
    "$Función$ $para$ $maximizar$ $7x$<sub>$11$</sub> + $12x$<sub>$12$</sub> + $9x$<sub>$21$</sub> + $14x$<sub>$22$</sub>\n",
    "\n",
    "Restricciónes \n",
    "\n",
    "$x$<sub>$11$</sub> + $x$<sub>$12$</sub> $\\leq 40,000$ \n",
    "\n",
    "$x$<sub>$21$</sub> + $x$<sub>$22$</sub> $\\leq 30,000$"
   ]
  },
  {
   "cell_type": "markdown",
   "metadata": {},
   "source": [
    "### Para la obtención de las demas restricciones tenemos que acomodarlas a nuestra conveniencia ya que  estamos utlizando porcentanjes tenemos que adecuarlo de acuerdo a cada ingrediente con cada salsa.\n",
    "\n",
    "##### Ingrediente A y salsa Toro\n",
    "\n",
    "%$\\frac{A}{Toro}$ $=$ $\\frac{x_11}{x_11 + x_21}$ $\\leq0.75$\n",
    "\n",
    "$x$<sub>$11$</sub> $\\leq$ $0.75x$<sub>$11$</sub> + $0.75$<sub>$21$</sub>\n",
    "\n",
    "$0.25x$<sub>$11$</sub> - $0.75x$<sub>$21$</sub> $\\leq0$\n",
    "\n",
    "##### Ingrediente A y salsa Diablo\n",
    "\n",
    "%$\\frac{A}{Diablo}$ $=$ $\\frac{x_12}{x_12 + x_22}$ $\\geq0.25$\n",
    "\n",
    "$x$<sub>$12$</sub> $\\geq$ $0.25x$<sub>$12$</sub> + $0.25x$<sub>$22$</sub>\n",
    "\n",
    "$0.75x$<sub>$12$</sub> - $0.25x$<sub>$22$</sub>$\\geq0$ \n",
    "\n",
    "##### Ingrediente B y salsa Diablo\n",
    "\n",
    "%$\\frac{B}{Diablo}$ $=$ $\\frac{x_22}{x_12 + x_22}$ $\\geq0.50$\n",
    "\n",
    "$x$<sub>$22$</sub> $\\geq$ $0.50x$<sub>$12$</sub> + $0.50x$<sub>$22$</sub>\n",
    "\n",
    "$0.5x$<sub>$22$</sub> - $0.5x$<sub>$12$</sub>$\\geq0$"
   ]
  },
  {
   "cell_type": "markdown",
   "metadata": {},
   "source": [
    "### Las restricciónes quedaron de esta manera:\n",
    "\n",
    "$x$<sub>$11$</sub> + $x$<sub>$12$</sub> $\\leq 40,000$ \n",
    "\n",
    "$x$<sub>$21$</sub> + $x$<sub>$22$</sub> $\\leq 30,000$\n",
    "\n",
    "$0.25x$<sub>$11$</sub> - $0.75x$<sub>$21$</sub> $\\leq0$\n",
    "\n",
    "$0.75x$<sub>$12$</sub> - $0.25x$<sub>$22$</sub>$\\geq0$ \n",
    "\n",
    "$0.5x$<sub>$22$</sub> - $0.5x$<sub>$12$</sub>$\\geq0$"
   ]
  },
  {
   "cell_type": "code",
   "execution_count": 1,
   "metadata": {},
   "outputs": [
    {
     "data": {
      "text/plain": [
       "     con: array([], dtype=float64)\n",
       "     fun: -799999.9999356365\n",
       " message: 'Optimization terminated successfully.'\n",
       "     nit: 9\n",
       "   slack: array([3.15137004e-06, 2.36727647e-06, 3.94202289e-08, 1.25000000e+04,\n",
       "       2.28883437e-08])\n",
       "  status: 0\n",
       " success: True\n",
       "       x: array([14999.99999897, 24999.99999788,  4999.99999971, 24999.99999792])"
      ]
     },
     "execution_count": 1,
     "metadata": {},
     "output_type": "execute_result"
    }
   ],
   "source": [
    "import scipy.optimize as opt\n",
    "import numpy as np\n",
    "\n",
    "A=np.array([[1,1,0,0],[0,0,1,1],[.25,0,-0.75,0],[0,-0.75,0,0.25],[0,0.5,0,-0.5]])\n",
    "b=np.array([40000,30000,0,-0,-0])\n",
    "c=np.array([-7,-12,-9,-14])\n",
    "\n",
    "\n",
    "opt.linprog(c,A,b,method='interior-point')"
   ]
  },
  {
   "cell_type": "markdown",
   "metadata": {},
   "source": [
    "Las cantidades que maximizan la utilidad son **15 ton** del ingrediente _A_ y **5 tons** del *B* para Toro, y **25 tons** del ingrediente *A* y **25 tons** del *B* para Diablo. \n",
    "\n",
    "Se obtendrá una utilidad de $\\$800000$"
   ]
  },
  {
   "cell_type": "markdown",
   "metadata": {},
   "source": [
    "# Conclusiones:\n",
    "\n",
    "### Con base en los resultados obtenidos, se puede concluir que se cumplio el obejtivo general tanto los objetivos específicos, ya que empleamos lo visto en clase y logramos maximizar las ganancias de las salsas toro y diablo, tuvimos un problema en el momento de resolver el problema con programación lineal, ya que fue difícil plantearlo porque no se tomaron en cuenta los porcentajes durante el análisis del problema."
   ]
  },
  {
   "cell_type": "markdown",
   "metadata": {},
   "source": [
    "# Referencias"
   ]
  },
  {
   "cell_type": "code",
   "execution_count": null,
   "metadata": {},
   "outputs": [],
   "source": []
  }
 ],
 "metadata": {
  "kernelspec": {
   "display_name": "Python 3",
   "language": "python",
   "name": "python3"
  },
  "language_info": {
   "codemirror_mode": {
    "name": "ipython",
    "version": 3
   },
   "file_extension": ".py",
   "mimetype": "text/x-python",
   "name": "python",
   "nbconvert_exporter": "python",
   "pygments_lexer": "ipython3",
   "version": "3.7.3"
  }
 },
 "nbformat": 4,
 "nbformat_minor": 2
}
