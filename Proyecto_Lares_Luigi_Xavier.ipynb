{
 "cells": [
  {
   "cell_type": "code",
   "execution_count": 3,
   "metadata": {},
   "outputs": [],
   "source": [
    "import sympy as sym\n",
    "sym.init_printing(use_latex=\"mathjax\")\n",
    "import pandas as pd"
   ]
  },
  {
   "cell_type": "markdown",
   "metadata": {},
   "source": [
    "link(https://www.omniascience.com/books/index.php/scholar/catalog/download/18/72/94-1?inline=1)\n",
    "\n",
    "Pagina 91 \n",
    "\n",
    "Ejercicio 20\n"
   ]
  },
  {
   "cell_type": "markdown",
   "metadata": {},
   "source": [
    "## Una empresa está interesada en desarrollar un abono que contenga como mínimo 100 unidades de potasio, 25 de nitrógeno y 10 de amoníaco, para ello se dispone de los productos A y B cuyo coste en el mercado asciende a 10 y 15 euros por tonelada respectivamente. El contenido de potasio, nitrógeno y amoníaco de una tonelada de producto se muestra en la tabla siguiente: "
   ]
  },
  {
   "cell_type": "code",
   "execution_count": 4,
   "metadata": {},
   "outputs": [
    {
     "data": {
      "text/html": [
       "<div>\n",
       "<style scoped>\n",
       "    .dataframe tbody tr th:only-of-type {\n",
       "        vertical-align: middle;\n",
       "    }\n",
       "\n",
       "    .dataframe tbody tr th {\n",
       "        vertical-align: top;\n",
       "    }\n",
       "\n",
       "    .dataframe thead th {\n",
       "        text-align: right;\n",
       "    }\n",
       "</style>\n",
       "<table border=\"1\" class=\"dataframe\">\n",
       "  <thead>\n",
       "    <tr style=\"text-align: right;\">\n",
       "      <th></th>\n",
       "      <th>Potasio</th>\n",
       "      <th>Nitrógeno</th>\n",
       "      <th>Amoniaco</th>\n",
       "    </tr>\n",
       "  </thead>\n",
       "  <tbody>\n",
       "    <tr>\n",
       "      <th>Producto A</th>\n",
       "      <td>2</td>\n",
       "      <td>0.3</td>\n",
       "      <td>0.2</td>\n",
       "    </tr>\n",
       "    <tr>\n",
       "      <th>Producto B</th>\n",
       "      <td>1</td>\n",
       "      <td>0.6</td>\n",
       "      <td>0.2</td>\n",
       "    </tr>\n",
       "  </tbody>\n",
       "</table>\n",
       "</div>"
      ],
      "text/plain": [
       "           Potasio Nitrógeno Amoniaco\n",
       "Producto A       2       0.3      0.2\n",
       "Producto B       1       0.6      0.2"
      ]
     },
     "execution_count": 4,
     "metadata": {},
     "output_type": "execute_result"
    }
   ],
   "source": [
    "df = pd.DataFrame(columns=['Potasio', 'Nitrógeno', 'Amoniaco'], index = ['Producto A','Producto B'])\n",
    "df.loc['Producto A', :]= [2.0,0.3,0.2]\n",
    "df.loc['Producto B', :]= [1.0,0.6,0.2]\n",
    "df"
   ]
  },
  {
   "cell_type": "markdown",
   "metadata": {},
   "source": [
    "####  Desarrolle el nuevo abono tomando en consideración que se desea que dicho abono cueste lo menos posible.\n"
   ]
  },
  {
   "cell_type": "markdown",
   "metadata": {},
   "source": [
    "$x_i$ Toneladas de producto i que intervienen en el abono i =A,B\n",
    "\n",
    "$Función$ $para$ $minimizar$ {10$X_A$ + $15X_B$}\n",
    "\n",
    "Restricción de potasio  $2X_A$ + $1X_B$ $\\geq 100$\n",
    "\n",
    "Restricción de nitrógeno  $0.3X_A$ + $0.6X_B$ $\\geq 25$\n",
    "\n",
    "Restricción de amoníaco  $0.2X_A$ + $0.2X_B$ $\\geq10$\n",
    "\n",
    "$X_A$ , $X_B$ $\\geq0$"
   ]
  },
  {
   "cell_type": "code",
   "execution_count": 3,
   "metadata": {},
   "outputs": [],
   "source": []
  },
  {
   "cell_type": "code",
   "execution_count": null,
   "metadata": {},
   "outputs": [],
   "source": []
  }
 ],
 "metadata": {
  "kernelspec": {
   "display_name": "Python 3",
   "language": "python",
   "name": "python3"
  },
  "language_info": {
   "codemirror_mode": {
    "name": "ipython",
    "version": 3
   },
   "file_extension": ".py",
   "mimetype": "text/x-python",
   "name": "python",
   "nbconvert_exporter": "python",
   "pygments_lexer": "ipython3",
   "version": "3.7.3"
  }
 },
 "nbformat": 4,
 "nbformat_minor": 2
}
