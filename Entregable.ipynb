{
 "cells": [
  {
   "cell_type": "markdown",
   "metadata": {},
   "source": [
    "# Programación Lineal \n",
    "\n",
    "# Salsas Toro y Diablo\n",
    "\n",
    "## Problema de optimización\n",
    "\n",
    "### Objetivo General\n",
    "\n",
    "Ser capaces de emplear alguno de los conocimientos adquiridos en este 1er módulo; aplicándolo en un problema cotidiano que pueda surgirle a una empresa. \n",
    "\n",
    "Maximizar la utilidad de las Salsas Toro y Diablo.\n",
    "\n",
    "\n",
    "### Objetivos específicos\n",
    "\n",
    "-Utilizar método de programación lineal visto en clase para maximizar las utilidades de las salsas Toro y Diablo.\n",
    "\n",
    "-Utilizar Github y Git Kraken para hacer modificaciones del proyecto de forma remota.\n"
   ]
  },
  {
   "cell_type": "markdown",
   "metadata": {},
   "source": [
    "## Modelo del problema \n",
    "\n",
    "$Función$ $para$ $maximizar:$\n",
    "\n",
    "$7x$<sub>$11$</sub> + $12x$<sub>$12$</sub> + $9x$<sub>$21$</sub> + $14x$<sub>$22$</sub>\n",
    "\n",
    "### Restricciónes:\n",
    "\n",
    "$x$<sub>$11$</sub> + $x$<sub>$12$</sub> $\\leq 40,000$ \n",
    "\n",
    "$x$<sub>$21$</sub> + $x$<sub>$22$</sub> $\\leq 30,000$\n",
    "\n",
    "$0.25x$<sub>$11$</sub> - $0.75x$<sub>$21$</sub> $\\leq0$\n",
    "\n",
    "$0.75x$<sub>$12$</sub> - $0.25x$<sub>$22$</sub> $\\geq0$ \n",
    "\n",
    "$0.5x$<sub>$22$</sub> - $0.5x$<sub>$12$</sub>  $\\geq0$"
   ]
  },
  {
   "cell_type": "code",
   "execution_count": null,
   "metadata": {},
   "outputs": [],
   "source": []
  },
  {
   "cell_type": "code",
   "execution_count": null,
   "metadata": {},
   "outputs": [],
   "source": []
  },
  {
   "cell_type": "markdown",
   "metadata": {},
   "source": [
    "# Conclusiones\n",
    "\n",
    "### Con base en los resultados obtenidos, se puede concluir que se cumplio el obejtivo general tanto los objetivos especificos, tuvimos un problema en el momento de resolver el problema con programación lineal, fue dificil plantearlo porque no se tomaron en cuenta los porcentajes. "
   ]
  }
 ],
 "metadata": {
  "kernelspec": {
   "display_name": "Python 3",
   "language": "python",
   "name": "python3"
  },
  "language_info": {
   "codemirror_mode": {
    "name": "ipython",
    "version": 3
   },
   "file_extension": ".py",
   "mimetype": "text/x-python",
   "name": "python",
   "nbconvert_exporter": "python",
   "pygments_lexer": "ipython3",
   "version": "3.7.3"
  }
 },
 "nbformat": 4,
 "nbformat_minor": 2
}
