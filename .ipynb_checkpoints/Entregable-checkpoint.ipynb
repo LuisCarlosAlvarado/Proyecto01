{
 "cells": [
  {
   "cell_type": "markdown",
   "metadata": {},
   "source": [
    "# Programación Lineal\n",
    "\n",
    "## Problema de optimización\n",
    "\n",
    "### Objetivo General\n",
    "\n",
    "Ser capaces de emplear alguno de los conocimientos adquiridos en este 1er módulo; aplicándolo en un problema cotidiano que pueda surgirle a una empresa.\n",
    "\n",
    "\n",
    "### Objetivos específicos\n",
    "\n"
   ]
  }
 ],
 "metadata": {
  "kernelspec": {
   "display_name": "Python 3",
   "language": "python",
   "name": "python3"
  },
  "language_info": {
   "codemirror_mode": {
    "name": "ipython",
    "version": 3
   },
   "file_extension": ".py",
   "mimetype": "text/x-python",
   "name": "python",
   "nbconvert_exporter": "python",
   "pygments_lexer": "ipython3",
   "version": "3.7.3"
  }
 },
 "nbformat": 4,
 "nbformat_minor": 2
}
