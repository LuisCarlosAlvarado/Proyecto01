{
 "cells": [
  {
   "cell_type": "code",
   "execution_count": 14,
   "metadata": {},
   "outputs": [],
   "source": [
    "import sympy as sym\n",
    "sym.init_printing(use_latex=\"mathjax\")\n",
    "import pandas as pd"
   ]
  },
  {
   "cell_type": "markdown",
   "metadata": {},
   "source": []
  },
  {
   "cell_type": "code",
   "execution_count": 72,
   "metadata": {},
   "outputs": [
    {
     "data": {
      "text/html": [
       "<div>\n",
       "<style scoped>\n",
       "    .dataframe tbody tr th:only-of-type {\n",
       "        vertical-align: middle;\n",
       "    }\n",
       "\n",
       "    .dataframe tbody tr th {\n",
       "        vertical-align: top;\n",
       "    }\n",
       "\n",
       "    .dataframe thead th {\n",
       "        text-align: right;\n",
       "    }\n",
       "</style>\n",
       "<table border=\"1\" class=\"dataframe\">\n",
       "  <thead>\n",
       "    <tr style=\"text-align: right;\">\n",
       "      <th></th>\n",
       "      <th>Ingrediente A</th>\n",
       "      <th>Ingrediente B</th>\n",
       "      <th>Precio de Venta</th>\n",
       "      <th></th>\n",
       "    </tr>\n",
       "  </thead>\n",
       "  <tbody>\n",
       "    <tr>\n",
       "      <th>Toro</th>\n",
       "      <td>75%</td>\n",
       "      <td>0</td>\n",
       "      <td>15</td>\n",
       "      <td></td>\n",
       "    </tr>\n",
       "    <tr>\n",
       "      <th>Diablo</th>\n",
       "      <td>25%</td>\n",
       "      <td>50%</td>\n",
       "      <td>20</td>\n",
       "      <td></td>\n",
       "    </tr>\n",
       "    <tr>\n",
       "      <th>Disponibilidad</th>\n",
       "      <td>40</td>\n",
       "      <td>30</td>\n",
       "      <td></td>\n",
       "      <td>Toneladas</td>\n",
       "    </tr>\n",
       "    <tr>\n",
       "      <th>Costo</th>\n",
       "      <td>8</td>\n",
       "      <td>6</td>\n",
       "      <td></td>\n",
       "      <td></td>\n",
       "    </tr>\n",
       "  </tbody>\n",
       "</table>\n",
       "</div>"
      ],
      "text/plain": [
       "               Ingrediente A Ingrediente B Precio de Venta           \n",
       "Toro                     75%             0              15           \n",
       "Diablo                   25%           50%              20           \n",
       "Disponibilidad            40            30                  Toneladas\n",
       "Costo                      8             6                           "
      ]
     },
     "execution_count": 72,
     "metadata": {},
     "output_type": "execute_result"
    }
   ],
   "source": [
    "df = pd.DataFrame(columns=['Ingrediente A', 'Ingrediente B', 'Precio de Venta',''], index = ['Toro','Diablo','Disponibilidad','Costo'])\n",
    "df.loc['Toro', :]= ['75%',0,15,'']\n",
    "df.loc['Diablo', :]= ['25%','50%',20,'']\n",
    "df.loc['Disponibilidad', :]= [40,30,'',\"Toneladas\"]\n",
    "df.loc['Costo', :]= [8,6,'','']\n",
    "df"
   ]
  },
  {
   "cell_type": "markdown",
   "metadata": {},
   "source": [
    "####  Objetivo maximizar la Utilidad\n"
   ]
  },
  {
   "cell_type": "markdown",
   "metadata": {},
   "source": [
    "$X$<sub>$ij$</sub> = kgs ingredientes de $\"i\"$ por salsa $\"j\"$."
   ]
  },
  {
   "cell_type": "code",
   "execution_count": 66,
   "metadata": {},
   "outputs": [
    {
     "data": {
      "text/html": [
       "<div>\n",
       "<style scoped>\n",
       "    .dataframe tbody tr th:only-of-type {\n",
       "        vertical-align: middle;\n",
       "    }\n",
       "\n",
       "    .dataframe tbody tr th {\n",
       "        vertical-align: top;\n",
       "    }\n",
       "\n",
       "    .dataframe thead th {\n",
       "        text-align: right;\n",
       "    }\n",
       "</style>\n",
       "<table border=\"1\" class=\"dataframe\">\n",
       "  <thead>\n",
       "    <tr style=\"text-align: right;\">\n",
       "      <th></th>\n",
       "      <th></th>\n",
       "      <th></th>\n",
       "      <th></th>\n",
       "      <th></th>\n",
       "    </tr>\n",
       "  </thead>\n",
       "  <tbody>\n",
       "    <tr>\n",
       "      <th>i</th>\n",
       "      <td>=</td>\n",
       "      <td>1</td>\n",
       "      <td>=</td>\n",
       "      <td>Ingrediente A</td>\n",
       "    </tr>\n",
       "    <tr>\n",
       "      <th></th>\n",
       "      <td></td>\n",
       "      <td>2</td>\n",
       "      <td>=</td>\n",
       "      <td>Ingrediente B</td>\n",
       "    </tr>\n",
       "    <tr>\n",
       "      <th>j</th>\n",
       "      <td>=</td>\n",
       "      <td>1</td>\n",
       "      <td>=</td>\n",
       "      <td>Toro</td>\n",
       "    </tr>\n",
       "    <tr>\n",
       "      <th>.</th>\n",
       "      <td></td>\n",
       "      <td>2</td>\n",
       "      <td>=</td>\n",
       "      <td>Diablo</td>\n",
       "    </tr>\n",
       "  </tbody>\n",
       "</table>\n",
       "</div>"
      ],
      "text/plain": [
       "                         \n",
       "i  =  1  =  Ingrediente A\n",
       "      2  =  Ingrediente B\n",
       "j  =  1  =           Toro\n",
       ".     2  =         Diablo"
      ]
     },
     "execution_count": 66,
     "metadata": {},
     "output_type": "execute_result"
    }
   ],
   "source": [
    "df = pd.DataFrame(columns=['','','',''], index = ['i','','j','.'])\n",
    "df.loc['i', :]= ['=',1,'=','Ingrediente A']\n",
    "df.loc['', :]= ['',2,'=','Ingrediente B']\n",
    "df.loc['j', :]= ['=',1,'=','Toro']\n",
    "df.loc['.', :]= ['',2,'=','Diablo']\n",
    "\n",
    "df"
   ]
  },
  {
   "cell_type": "markdown",
   "metadata": {},
   "source": [
    "$x_i$ Toneladas de producto i que intervienen en el abono i =A,B\n",
    "\n",
    "$Función$ $para$ $maximizar$ $7x$<sub>$11$</sub> + $12x$<sub>$12$</sub> + $9x$<sub>$21$</sub> + $14x$<sub>$22$</sub>\n",
    "\n",
    "Restricciónes \n",
    "\n",
    "$x$<sub>$11$</sub> + $x$<sub>$12$</sub> $\\leq 40,000$ \n",
    "\n",
    "$x$<sub>$21$</sub> + $x$<sub>$22$</sub> $\\leq 30,000$"
   ]
  },
  {
   "cell_type": "markdown",
   "metadata": {},
   "source": [
    "### Para la obtención de las demas restricciones tenemos que acomodarlas a nuestra conveniencia ya eu como estamos utlizando porcentanjes no se tienen que adecuar, de acuerdo a cada ingrediente con cada salsa.\n",
    "\n",
    "%$\\frac{A}{Toro}$ $=$ $\\frac{x}{x+x}$"
   ]
  },
  {
   "cell_type": "markdown",
   "metadata": {},
   "source": [
    "$0.25x$<sub>$11$</sub> - $0.75x$<sub>$21$</sub> $\\leq0$\n",
    "\n",
    "$0.25x$<sub>$22$</sub> - $0.75x$<sub>$12$</sub> $\\geq0$ \n",
    "\n",
    "$0.5x$<sub>$12$</sub> - $0.5x$<sub>$22$</sub> $\\geq0$"
   ]
  },
  {
   "cell_type": "code",
   "execution_count": 8,
   "metadata": {},
   "outputs": [
    {
     "ename": "ValueError",
     "evalue": "Invalid input for linprog: A_ub must have exactly two dimensions, and the number of columns in A_ub must be equal to the size of c ",
     "output_type": "error",
     "traceback": [
      "\u001b[1;31m---------------------------------------------------------------------------\u001b[0m",
      "\u001b[1;31mValueError\u001b[0m                                Traceback (most recent call last)",
      "\u001b[1;32m<ipython-input-8-5f29be790dde>\u001b[0m in \u001b[0;36m<module>\u001b[1;34m\u001b[0m\n\u001b[0;32m      6\u001b[0m \u001b[0mc\u001b[0m\u001b[1;33m=\u001b[0m\u001b[0mnp\u001b[0m\u001b[1;33m.\u001b[0m\u001b[0marray\u001b[0m\u001b[1;33m(\u001b[0m\u001b[1;33m[\u001b[0m\u001b[1;36m1\u001b[0m\u001b[1;33m,\u001b[0m\u001b[1;36m1\u001b[0m\u001b[1;33m]\u001b[0m\u001b[1;33m)\u001b[0m\u001b[1;33m\u001b[0m\u001b[1;33m\u001b[0m\u001b[0m\n\u001b[0;32m      7\u001b[0m \u001b[1;33m\u001b[0m\u001b[0m\n\u001b[1;32m----> 8\u001b[1;33m \u001b[0munidades\u001b[0m\u001b[1;33m=\u001b[0m\u001b[0mopt\u001b[0m\u001b[1;33m.\u001b[0m\u001b[0mlinprog\u001b[0m\u001b[1;33m(\u001b[0m\u001b[0mc\u001b[0m\u001b[1;33m,\u001b[0m\u001b[0mA\u001b[0m\u001b[1;33m,\u001b[0m\u001b[0mb\u001b[0m\u001b[1;33m)\u001b[0m\u001b[1;33m\u001b[0m\u001b[1;33m\u001b[0m\u001b[0m\n\u001b[0m\u001b[0;32m      9\u001b[0m \u001b[0munidades\u001b[0m\u001b[1;33m.\u001b[0m\u001b[0mx\u001b[0m\u001b[1;33m,\u001b[0m\u001b[0munidades\u001b[0m\u001b[1;33m.\u001b[0m\u001b[0mfun\u001b[0m\u001b[1;33m\u001b[0m\u001b[1;33m\u001b[0m\u001b[0m\n",
      "\u001b[1;32m~\\Anaconda3\\lib\\site-packages\\scipy\\optimize\\_linprog.py\u001b[0m in \u001b[0;36mlinprog\u001b[1;34m(c, A_ub, b_ub, A_eq, b_eq, bounds, method, callback, options)\u001b[0m\n\u001b[0;32m    440\u001b[0m \u001b[1;33m\u001b[0m\u001b[0m\n\u001b[0;32m    441\u001b[0m     c, A_ub, b_ub, A_eq, b_eq, bounds, solver_options = _parse_linprog(\n\u001b[1;32m--> 442\u001b[1;33m         c, A_ub, b_ub, A_eq, b_eq, bounds, options)\n\u001b[0m\u001b[0;32m    443\u001b[0m     \u001b[0mtol\u001b[0m \u001b[1;33m=\u001b[0m \u001b[0msolver_options\u001b[0m\u001b[1;33m.\u001b[0m\u001b[0mget\u001b[0m\u001b[1;33m(\u001b[0m\u001b[1;34m'tol'\u001b[0m\u001b[1;33m,\u001b[0m \u001b[0mdefault_tol\u001b[0m\u001b[1;33m)\u001b[0m\u001b[1;33m\u001b[0m\u001b[1;33m\u001b[0m\u001b[0m\n\u001b[0;32m    444\u001b[0m \u001b[1;33m\u001b[0m\u001b[0m\n",
      "\u001b[1;32m~\\Anaconda3\\lib\\site-packages\\scipy\\optimize\\_linprog_util.py\u001b[0m in \u001b[0;36m_parse_linprog\u001b[1;34m(c, A_ub, b_ub, A_eq, b_eq, bounds, options)\u001b[0m\n\u001b[0;32m    811\u001b[0m     \u001b[1;31m# Convert lists to numpy arrays, etc...\u001b[0m\u001b[1;33m\u001b[0m\u001b[1;33m\u001b[0m\u001b[1;33m\u001b[0m\u001b[0m\n\u001b[0;32m    812\u001b[0m     c, A_ub, b_ub, A_eq, b_eq, bounds = _clean_inputs(\n\u001b[1;32m--> 813\u001b[1;33m         c, A_ub, b_ub, A_eq, b_eq, bounds)\n\u001b[0m\u001b[0;32m    814\u001b[0m     \u001b[1;32mreturn\u001b[0m \u001b[0mc\u001b[0m\u001b[1;33m,\u001b[0m \u001b[0mA_ub\u001b[0m\u001b[1;33m,\u001b[0m \u001b[0mb_ub\u001b[0m\u001b[1;33m,\u001b[0m \u001b[0mA_eq\u001b[0m\u001b[1;33m,\u001b[0m \u001b[0mb_eq\u001b[0m\u001b[1;33m,\u001b[0m \u001b[0mbounds\u001b[0m\u001b[1;33m,\u001b[0m \u001b[0msolver_options\u001b[0m\u001b[1;33m\u001b[0m\u001b[1;33m\u001b[0m\u001b[0m\n\u001b[0;32m    815\u001b[0m \u001b[1;33m\u001b[0m\u001b[0m\n",
      "\u001b[1;32m~\\Anaconda3\\lib\\site-packages\\scipy\\optimize\\_linprog_util.py\u001b[0m in \u001b[0;36m_clean_inputs\u001b[1;34m(c, A_ub, b_ub, A_eq, b_eq, bounds)\u001b[0m\n\u001b[0;32m    162\u001b[0m         \u001b[1;32mif\u001b[0m \u001b[0mlen\u001b[0m\u001b[1;33m(\u001b[0m\u001b[0mA_ub\u001b[0m\u001b[1;33m.\u001b[0m\u001b[0mshape\u001b[0m\u001b[1;33m)\u001b[0m \u001b[1;33m!=\u001b[0m \u001b[1;36m2\u001b[0m \u001b[1;32mor\u001b[0m \u001b[0mA_ub\u001b[0m\u001b[1;33m.\u001b[0m\u001b[0mshape\u001b[0m\u001b[1;33m[\u001b[0m\u001b[1;36m1\u001b[0m\u001b[1;33m]\u001b[0m \u001b[1;33m!=\u001b[0m \u001b[0mlen\u001b[0m\u001b[1;33m(\u001b[0m\u001b[0mc\u001b[0m\u001b[1;33m)\u001b[0m\u001b[1;33m:\u001b[0m\u001b[1;33m\u001b[0m\u001b[1;33m\u001b[0m\u001b[0m\n\u001b[0;32m    163\u001b[0m             raise ValueError(\n\u001b[1;32m--> 164\u001b[1;33m                 \u001b[1;34m\"Invalid input for linprog: A_ub must have exactly two \"\u001b[0m\u001b[1;33m\u001b[0m\u001b[1;33m\u001b[0m\u001b[0m\n\u001b[0m\u001b[0;32m    165\u001b[0m                 \u001b[1;34m\"dimensions, and the number of columns in A_ub must be \"\u001b[0m\u001b[1;33m\u001b[0m\u001b[1;33m\u001b[0m\u001b[0m\n\u001b[0;32m    166\u001b[0m                 \"equal to the size of c \")\n",
      "\u001b[1;31mValueError\u001b[0m: Invalid input for linprog: A_ub must have exactly two dimensions, and the number of columns in A_ub must be equal to the size of c "
     ]
    }
   ],
   "source": [
    "\n",
    "Luigi esto es del otro problema jaja\n",
    "\n",
    "\n",
    "import scipy.optimize as opt\n",
    "import numpy as np\n",
    "\n",
    "A=np.array([[-2,-0.3,-0.2],[-1,-0.6,-0.2]])\n",
    "b=np.array([-100,-25,-10])\n",
    "c=np.array([1,1])\n",
    "\n",
    "unidades=opt.linprog(c,A,b)\n",
    "unidades.x,unidades.fun"
   ]
  },
  {
   "cell_type": "code",
   "execution_count": null,
   "metadata": {},
   "outputs": [],
   "source": []
  }
 ],
 "metadata": {
  "kernelspec": {
   "display_name": "Python 3",
   "language": "python",
   "name": "python3"
  },
  "language_info": {
   "codemirror_mode": {
    "name": "ipython",
    "version": 3
   },
   "file_extension": ".py",
   "mimetype": "text/x-python",
   "name": "python",
   "nbconvert_exporter": "python",
   "pygments_lexer": "ipython3",
   "version": "3.7.3"
  }
 },
 "nbformat": 4,
 "nbformat_minor": 2
}
