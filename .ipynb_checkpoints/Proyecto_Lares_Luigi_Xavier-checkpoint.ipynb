{
 "cells": [
  {
   "cell_type": "code",
   "execution_count": 14,
   "metadata": {},
   "outputs": [],
   "source": [
    "import sympy as sym\n",
    "sym.init_printing(use_latex=\"mathjax\")\n",
    "import pandas as pd"
   ]
  },
  {
   "cell_type": "markdown",
   "metadata": {},
   "source": []
  },
  {
   "cell_type": "code",
   "execution_count": 72,
   "metadata": {},
   "outputs": [
    {
     "data": {
      "text/html": [
       "<div>\n",
       "<style scoped>\n",
       "    .dataframe tbody tr th:only-of-type {\n",
       "        vertical-align: middle;\n",
       "    }\n",
       "\n",
       "    .dataframe tbody tr th {\n",
       "        vertical-align: top;\n",
       "    }\n",
       "\n",
       "    .dataframe thead th {\n",
       "        text-align: right;\n",
       "    }\n",
       "</style>\n",
       "<table border=\"1\" class=\"dataframe\">\n",
       "  <thead>\n",
       "    <tr style=\"text-align: right;\">\n",
       "      <th></th>\n",
       "      <th>Ingrediente A</th>\n",
       "      <th>Ingrediente B</th>\n",
       "      <th>Precio de Venta</th>\n",
       "      <th></th>\n",
       "    </tr>\n",
       "  </thead>\n",
       "  <tbody>\n",
       "    <tr>\n",
       "      <th>Toro</th>\n",
       "      <td>75%</td>\n",
       "      <td>0</td>\n",
       "      <td>15</td>\n",
       "      <td></td>\n",
       "    </tr>\n",
       "    <tr>\n",
       "      <th>Diablo</th>\n",
       "      <td>25%</td>\n",
       "      <td>50%</td>\n",
       "      <td>20</td>\n",
       "      <td></td>\n",
       "    </tr>\n",
       "    <tr>\n",
       "      <th>Disponibilidad</th>\n",
       "      <td>40</td>\n",
       "      <td>30</td>\n",
       "      <td></td>\n",
       "      <td>Toneladas</td>\n",
       "    </tr>\n",
       "    <tr>\n",
       "      <th>Costo</th>\n",
       "      <td>8</td>\n",
       "      <td>6</td>\n",
       "      <td></td>\n",
       "      <td></td>\n",
       "    </tr>\n",
       "  </tbody>\n",
       "</table>\n",
       "</div>"
      ],
      "text/plain": [
       "               Ingrediente A Ingrediente B Precio de Venta           \n",
       "Toro                     75%             0              15           \n",
       "Diablo                   25%           50%              20           \n",
       "Disponibilidad            40            30                  Toneladas\n",
       "Costo                      8             6                           "
      ]
     },
     "execution_count": 72,
     "metadata": {},
     "output_type": "execute_result"
    }
   ],
   "source": [
    "df = pd.DataFrame(columns=['Ingrediente A', 'Ingrediente B', 'Precio de Venta',''], index = ['Toro','Diablo','Disponibilidad','Costo'])\n",
    "df.loc['Toro', :]= ['75%',0,15,'']\n",
    "df.loc['Diablo', :]= ['25%','50%',20,'']\n",
    "df.loc['Disponibilidad', :]= [40,30,'',\"Toneladas\"]\n",
    "df.loc['Costo', :]= [8,6,'','']\n",
    "df"
   ]
  },
  {
   "cell_type": "markdown",
   "metadata": {},
   "source": [
    "####  Objetivo maximizar la Utilidad\n"
   ]
  },
  {
   "cell_type": "markdown",
   "metadata": {},
   "source": [
    "$X$<sub>$ij$</sub> = kgs ingredientes de $\"i\"$ por salsa $\"j\"$."
   ]
  },
  {
   "cell_type": "code",
   "execution_count": 74,
   "metadata": {},
   "outputs": [
    {
     "data": {
      "text/html": [
       "<div>\n",
       "<style scoped>\n",
       "    .dataframe tbody tr th:only-of-type {\n",
       "        vertical-align: middle;\n",
       "    }\n",
       "\n",
       "    .dataframe tbody tr th {\n",
       "        vertical-align: top;\n",
       "    }\n",
       "\n",
       "    .dataframe thead th {\n",
       "        text-align: right;\n",
       "    }\n",
       "</style>\n",
       "<table border=\"1\" class=\"dataframe\">\n",
       "  <thead>\n",
       "    <tr style=\"text-align: right;\">\n",
       "      <th></th>\n",
       "      <th></th>\n",
       "      <th></th>\n",
       "      <th></th>\n",
       "      <th></th>\n",
       "    </tr>\n",
       "  </thead>\n",
       "  <tbody>\n",
       "    <tr>\n",
       "      <th>i</th>\n",
       "      <td>=</td>\n",
       "      <td>1</td>\n",
       "      <td>=</td>\n",
       "      <td>Ingrediente A</td>\n",
       "    </tr>\n",
       "    <tr>\n",
       "      <th></th>\n",
       "      <td></td>\n",
       "      <td>2</td>\n",
       "      <td>=</td>\n",
       "      <td>Ingrediente B</td>\n",
       "    </tr>\n",
       "    <tr>\n",
       "      <th>j</th>\n",
       "      <td>=</td>\n",
       "      <td>1</td>\n",
       "      <td>=</td>\n",
       "      <td>Toro</td>\n",
       "    </tr>\n",
       "    <tr>\n",
       "      <th>.</th>\n",
       "      <td></td>\n",
       "      <td>2</td>\n",
       "      <td>=</td>\n",
       "      <td>Diablo</td>\n",
       "    </tr>\n",
       "  </tbody>\n",
       "</table>\n",
       "</div>"
      ],
      "text/plain": [
       "                         \n",
       "i  =  1  =  Ingrediente A\n",
       "      2  =  Ingrediente B\n",
       "j  =  1  =           Toro\n",
       ".     2  =         Diablo"
      ]
     },
     "execution_count": 74,
     "metadata": {},
     "output_type": "execute_result"
    }
   ],
   "source": [
    "df = pd.DataFrame(columns=['','','',''], index = ['i','','j','.'])\n",
    "df.loc['i', :]= ['=',1,'=','Ingrediente A']\n",
    "df.loc['', :]= ['',2,'=','Ingrediente B']\n",
    "df.loc['j', :]= ['=',1,'=','Toro']\n",
    "df.loc['.', :]= ['',2,'=','Diablo']\n",
    "df"
   ]
  },
  {
   "cell_type": "markdown",
   "metadata": {},
   "source": [
    "$x_i$ Toneladas de producto i que intervienen en el abono i =A,B\n",
    "\n",
    "$Función$ $para$ $maximizar$ $7x$<sub>$11$</sub> + $12x$<sub>$12$</sub> + $9x$<sub>$21$</sub> + $14x$<sub>$22$</sub>\n",
    "\n",
    "Restricciónes \n",
    "\n",
    "$x$<sub>$11$</sub> + $x$<sub>$12$</sub> $\\leq 40,000$ \n",
    "\n",
    "$x$<sub>$21$</sub> + $x$<sub>$22$</sub> $\\leq 30,000$"
   ]
  },
  {
   "cell_type": "markdown",
   "metadata": {},
   "source": [
    "### Para la obtención de las demas restricciones tenemos que acomodarlas a nuestra conveniencia ya que  estamos utlizando porcentanjes tenemos que adecuarlo de acuerdo a cada ingrediente con cada salsa.\n",
    "\n",
    "##### Ingrediente A y salsa Toro\n",
    "\n",
    "%$\\frac{A}{Toro}$ $=$ $\\frac{x_11}{x_11 + x_21}$ $\\leq0.75$\n",
    "\n",
    "$x$<sub>$11$</sub> $\\leq$ $0.75x$<sub>$11$</sub> + $0.75$<sub>$21$</sub>\n",
    "\n",
    "$0.25x$<sub>$11$</sub> - $0.75x$<sub>$21$</sub> $\\leq0$\n",
    "\n",
    "##### Ingrediente A y salsa Diablo\n",
    "\n",
    "%$\\frac{A}{Diablo}$ $=$ $\\frac{x_12}{x_12 + x_22}$ $\\geq0.75$\n",
    "\n",
    "$x$<sub>$12$</sub> $\\geq$ $0.25x$<sub>$12$</sub> + $0.25x$<sub>$22$</sub>\n",
    "\n",
    "$0.25x$<sub>$22$</sub> - $0.75x$<sub>$12$</sub> $\\geq0$ \n",
    "\n",
    "##### Ingrediente B y salsa Diablo\n",
    "\n",
    "%$\\frac{B}{Diablo}$ $=$ $\\frac{x_22}{x_12 + x_22}$ $\\geq0.75$\n",
    "\n",
    "$x$<sub>$22$</sub> $\\geq$ $0.50x$<sub>$12$</sub> + $0.50x$<sub>$22$</sub>\n",
    "\n",
    "$0.5x$<sub>$12$</sub> - $0.5x$<sub>$22$</sub> $\\geq0$"
   ]
  },
  {
   "cell_type": "markdown",
   "metadata": {},
   "source": [
    "### Las restricciónes quedaron de esta manera:\n",
    "\n",
    "$x$<sub>$11$</sub> + $x$<sub>$12$</sub> $\\leq 40,000$ \n",
    "\n",
    "$x$<sub>$21$</sub> + $x$<sub>$22$</sub> $\\leq 30,000$\n",
    "\n",
    "$0.25x$<sub>$11$</sub> - $0.75x$<sub>$21$</sub> $\\leq0$\n",
    "\n",
    "$0.25x$<sub>$22$</sub> - $0.75x$<sub>$12$</sub> $\\geq0$ \n",
    "\n",
    "$0.5x$<sub>$12$</sub> - $0.5x$<sub>$22$</sub> $\\geq0$"
   ]
  },
  {
   "cell_type": "code",
   "execution_count": 76,
   "metadata": {},
   "outputs": [
    {
     "ename": "ValueError",
     "evalue": "Phase 1 of the simplex method failed to find a feasible solution. The pseudo-objective function evaluates to 3.6e-12 which exceeds the required tolerance of 1e-12 for a solution to be considered 'close enough' to zero to be a basic solution. Consider increasing the tolerance to be greater than 3.6e-12. If this tolerance is unacceptably  large the problem may be infeasible.",
     "output_type": "error",
     "traceback": [
      "\u001b[1;31m---------------------------------------------------------------------------\u001b[0m",
      "\u001b[1;31mValueError\u001b[0m                                Traceback (most recent call last)",
      "\u001b[1;32m<ipython-input-76-af4425b9e161>\u001b[0m in \u001b[0;36m<module>\u001b[1;34m\u001b[0m\n\u001b[0;32m      6\u001b[0m \u001b[0mc\u001b[0m\u001b[1;33m=\u001b[0m\u001b[0mnp\u001b[0m\u001b[1;33m.\u001b[0m\u001b[0marray\u001b[0m\u001b[1;33m(\u001b[0m\u001b[1;33m[\u001b[0m\u001b[1;36m1\u001b[0m\u001b[1;33m,\u001b[0m\u001b[1;36m1\u001b[0m\u001b[1;33m,\u001b[0m\u001b[1;36m1\u001b[0m\u001b[1;33m,\u001b[0m\u001b[1;36m1\u001b[0m\u001b[1;33m]\u001b[0m\u001b[1;33m)\u001b[0m\u001b[1;33m\u001b[0m\u001b[1;33m\u001b[0m\u001b[0m\n\u001b[0;32m      7\u001b[0m \u001b[1;33m\u001b[0m\u001b[0m\n\u001b[1;32m----> 8\u001b[1;33m \u001b[0munidades\u001b[0m\u001b[1;33m=\u001b[0m\u001b[0mopt\u001b[0m\u001b[1;33m.\u001b[0m\u001b[0mlinprog\u001b[0m\u001b[1;33m(\u001b[0m\u001b[0mc\u001b[0m\u001b[1;33m,\u001b[0m\u001b[0mA\u001b[0m\u001b[1;33m,\u001b[0m\u001b[0mb\u001b[0m\u001b[1;33m)\u001b[0m\u001b[1;33m\u001b[0m\u001b[1;33m\u001b[0m\u001b[0m\n\u001b[0m\u001b[0;32m      9\u001b[0m \u001b[0munidades\u001b[0m\u001b[1;33m.\u001b[0m\u001b[0mx\u001b[0m\u001b[1;33m,\u001b[0m\u001b[0munidades\u001b[0m\u001b[1;33m.\u001b[0m\u001b[0mfun\u001b[0m\u001b[1;33m\u001b[0m\u001b[1;33m\u001b[0m\u001b[0m\n",
      "\u001b[1;32m~\\Anaconda3\\lib\\site-packages\\scipy\\optimize\\_linprog.py\u001b[0m in \u001b[0;36mlinprog\u001b[1;34m(c, A_ub, b_ub, A_eq, b_eq, bounds, method, callback, options)\u001b[0m\n\u001b[0;32m    476\u001b[0m     x, fun, slack, con, status, message = _postprocess(\n\u001b[0;32m    477\u001b[0m         \u001b[0mx\u001b[0m\u001b[1;33m,\u001b[0m \u001b[0mc_o\u001b[0m\u001b[1;33m,\u001b[0m \u001b[0mA_ub_o\u001b[0m\u001b[1;33m,\u001b[0m \u001b[0mb_ub_o\u001b[0m\u001b[1;33m,\u001b[0m \u001b[0mA_eq_o\u001b[0m\u001b[1;33m,\u001b[0m \u001b[0mb_eq_o\u001b[0m\u001b[1;33m,\u001b[0m \u001b[0mbounds\u001b[0m\u001b[1;33m,\u001b[0m\u001b[1;33m\u001b[0m\u001b[1;33m\u001b[0m\u001b[0m\n\u001b[1;32m--> 478\u001b[1;33m         complete, undo, status, message, tol, iteration, disp)\n\u001b[0m\u001b[0;32m    479\u001b[0m \u001b[1;33m\u001b[0m\u001b[0m\n\u001b[0;32m    480\u001b[0m     sol = {\n",
      "\u001b[1;32m~\\Anaconda3\\lib\\site-packages\\scipy\\optimize\\_linprog_util.py\u001b[0m in \u001b[0;36m_postprocess\u001b[1;34m(x, c, A_ub, b_ub, A_eq, b_eq, bounds, complete, undo, status, message, tol, iteration, disp)\u001b[0m\n\u001b[0;32m   1320\u001b[0m     status, message = _check_result(\n\u001b[0;32m   1321\u001b[0m         \u001b[0mx\u001b[0m\u001b[1;33m,\u001b[0m \u001b[0mfun\u001b[0m\u001b[1;33m,\u001b[0m \u001b[0mstatus\u001b[0m\u001b[1;33m,\u001b[0m \u001b[0mslack\u001b[0m\u001b[1;33m,\u001b[0m \u001b[0mcon\u001b[0m\u001b[1;33m,\u001b[0m\u001b[1;33m\u001b[0m\u001b[1;33m\u001b[0m\u001b[0m\n\u001b[1;32m-> 1322\u001b[1;33m         \u001b[0mlb\u001b[0m\u001b[1;33m,\u001b[0m \u001b[0mub\u001b[0m\u001b[1;33m,\u001b[0m \u001b[0mtol\u001b[0m\u001b[1;33m,\u001b[0m \u001b[0mmessage\u001b[0m\u001b[1;33m\u001b[0m\u001b[1;33m\u001b[0m\u001b[0m\n\u001b[0m\u001b[0;32m   1323\u001b[0m     )\n\u001b[0;32m   1324\u001b[0m \u001b[1;33m\u001b[0m\u001b[0m\n",
      "\u001b[1;32m~\\Anaconda3\\lib\\site-packages\\scipy\\optimize\\_linprog_util.py\u001b[0m in \u001b[0;36m_check_result\u001b[1;34m(x, fun, status, slack, con, lb, ub, tol, message)\u001b[0m\n\u001b[0;32m   1233\u001b[0m         \u001b[1;31m# nearly basic feasible solution. Postsolving can make the solution\u001b[0m\u001b[1;33m\u001b[0m\u001b[1;33m\u001b[0m\u001b[1;33m\u001b[0m\u001b[0m\n\u001b[0;32m   1234\u001b[0m         \u001b[1;31m#basic, however, this solution is NOT optimal\u001b[0m\u001b[1;33m\u001b[0m\u001b[1;33m\u001b[0m\u001b[1;33m\u001b[0m\u001b[0m\n\u001b[1;32m-> 1235\u001b[1;33m         \u001b[1;32mraise\u001b[0m \u001b[0mValueError\u001b[0m\u001b[1;33m(\u001b[0m\u001b[0mmessage\u001b[0m\u001b[1;33m)\u001b[0m\u001b[1;33m\u001b[0m\u001b[1;33m\u001b[0m\u001b[0m\n\u001b[0m\u001b[0;32m   1236\u001b[0m \u001b[1;33m\u001b[0m\u001b[0m\n\u001b[0;32m   1237\u001b[0m     \u001b[1;32mreturn\u001b[0m \u001b[0mstatus\u001b[0m\u001b[1;33m,\u001b[0m \u001b[0mmessage\u001b[0m\u001b[1;33m\u001b[0m\u001b[1;33m\u001b[0m\u001b[0m\n",
      "\u001b[1;31mValueError\u001b[0m: Phase 1 of the simplex method failed to find a feasible solution. The pseudo-objective function evaluates to 3.6e-12 which exceeds the required tolerance of 1e-12 for a solution to be considered 'close enough' to zero to be a basic solution. Consider increasing the tolerance to be greater than 3.6e-12. If this tolerance is unacceptably  large the problem may be infeasible."
     ]
    }
   ],
   "source": [
    "Luigi la estoy cagando jajaja :'(\n",
    "    \n",
    "import scipy.optimize as opt\n",
    "import numpy as np\n",
    "\n",
    "A=np.array([[1,1,0,0],[0,0,1,1],[.25,0,-0.75,0],[0,0.75,0,-0.25],[0,-0.5,0,0.5]])\n",
    "b=np.array([40000,30000,0,0,0])\n",
    "c=np.array([1,1,1,1])\n",
    "\n",
    "unidades=opt.linprog(c,A,b)\n",
    "unidades.x,unidades.fun"
   ]
  },
  {
   "cell_type": "code",
   "execution_count": null,
   "metadata": {},
   "outputs": [],
   "source": []
  }
 ],
 "metadata": {
  "kernelspec": {
   "display_name": "Python 3",
   "language": "python",
   "name": "python3"
  },
  "language_info": {
   "codemirror_mode": {
    "name": "ipython",
    "version": 3
   },
   "file_extension": ".py",
   "mimetype": "text/x-python",
   "name": "python",
   "nbconvert_exporter": "python",
   "pygments_lexer": "ipython3",
   "version": "3.7.3"
  }
 },
 "nbformat": 4,
 "nbformat_minor": 2
}
